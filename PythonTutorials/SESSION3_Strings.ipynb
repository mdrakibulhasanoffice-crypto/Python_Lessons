{
 "cells": [
  {
   "cell_type": "code",
   "execution_count": 1,
   "id": "9b2995ce",
   "metadata": {},
   "outputs": [],
   "source": [
    "myvar =\"Test\""
   ]
  },
  {
   "cell_type": "code",
   "execution_count": 2,
   "id": "a39a4f34",
   "metadata": {},
   "outputs": [
    {
     "name": "stdout",
     "output_type": "stream",
     "text": [
      "Enter your number: 5\n"
     ]
    },
    {
     "data": {
      "text/plain": [
       "'5'"
      ]
     },
     "execution_count": 2,
     "metadata": {},
     "output_type": "execute_result"
    }
   ],
   "source": [
    "myvar = input(\"Enter your number: \")\n",
    "myvar"
   ]
  },
  {
   "cell_type": "code",
   "execution_count": 3,
   "id": "1eb6e716",
   "metadata": {},
   "outputs": [
    {
     "data": {
      "text/plain": [
       "'10'"
      ]
     },
     "execution_count": 3,
     "metadata": {},
     "output_type": "execute_result"
    }
   ],
   "source": [
    "str(int(myvar)+5)"
   ]
  },
  {
   "cell_type": "code",
   "execution_count": 4,
   "id": "65d22772",
   "metadata": {},
   "outputs": [
    {
     "name": "stdout",
     "output_type": "stream",
     "text": [
      "Hi !! Welcome to python 3 bootcamp in bengali\n"
     ]
    }
   ],
   "source": [
    "print(\"Hi !! Welcome to python 3 bootcamp in bengali\")"
   ]
  },
  {
   "cell_type": "code",
   "execution_count": 5,
   "id": "133550a9",
   "metadata": {},
   "outputs": [
    {
     "name": "stdout",
     "output_type": "stream",
     "text": [
      "Hi !! Welcome to python 3 bootcamp in bengali\n"
     ]
    }
   ],
   "source": [
    "print(\"Hi !! Welcome to python 3\",\"bootcamp in bengali\")"
   ]
  },
  {
   "cell_type": "code",
   "execution_count": 6,
   "id": "ac24596c",
   "metadata": {},
   "outputs": [
    {
     "name": "stdout",
     "output_type": "stream",
     "text": [
      "\n",
      "Hi\n",
      "Welcome to python\n",
      "\n",
      "bootcamp\n",
      "\n"
     ]
    }
   ],
   "source": [
    "myvar = \"\"\"\n",
    "Hi\n",
    "Welcome to python\n",
    "\n",
    "bootcamp\n",
    "\"\"\"\n",
    "print(myvar)"
   ]
  },
  {
   "cell_type": "code",
   "execution_count": 8,
   "id": "028aa088",
   "metadata": {},
   "outputs": [
    {
     "data": {
      "text/plain": [
       "'\\nThis is also a commemt\\n'"
      ]
     },
     "execution_count": 8,
     "metadata": {},
     "output_type": "execute_result"
    }
   ],
   "source": [
    "#This is a commemt\n",
    "\"\"\"\n",
    "This is also a commemt\n",
    "\"\"\""
   ]
  },
  {
   "cell_type": "code",
   "execution_count": 10,
   "id": "48d4490d",
   "metadata": {},
   "outputs": [
    {
     "data": {
      "text/plain": [
       "'I like classes in bengali'"
      ]
     },
     "execution_count": 10,
     "metadata": {},
     "output_type": "execute_result"
    }
   ],
   "source": [
    "myvar=\"I like classes in bengali\"\n",
    "myvar"
   ]
  },
  {
   "cell_type": "code",
   "execution_count": 11,
   "id": "e7d3a663",
   "metadata": {},
   "outputs": [
    {
     "data": {
      "text/plain": [
       "'i'"
      ]
     },
     "execution_count": 11,
     "metadata": {},
     "output_type": "execute_result"
    }
   ],
   "source": [
    "myvar[3]"
   ]
  },
  {
   "cell_type": "code",
   "execution_count": 12,
   "id": "4779f872",
   "metadata": {},
   "outputs": [
    {
     "data": {
      "text/plain": [
       "'I like'"
      ]
     },
     "execution_count": 12,
     "metadata": {},
     "output_type": "execute_result"
    }
   ],
   "source": [
    "myvar[0:6]"
   ]
  },
  {
   "cell_type": "code",
   "execution_count": 13,
   "id": "e999ec4a",
   "metadata": {},
   "outputs": [
    {
     "data": {
      "text/plain": [
       "'i'"
      ]
     },
     "execution_count": 13,
     "metadata": {},
     "output_type": "execute_result"
    }
   ],
   "source": [
    "myvar[-1]"
   ]
  },
  {
   "cell_type": "code",
   "execution_count": 14,
   "id": "f805ff5e",
   "metadata": {},
   "outputs": [
    {
     "data": {
      "text/plain": [
       "'b'"
      ]
     },
     "execution_count": 14,
     "metadata": {},
     "output_type": "execute_result"
    }
   ],
   "source": [
    "myvar[-7]"
   ]
  },
  {
   "cell_type": "code",
   "execution_count": 15,
   "id": "c10f2246",
   "metadata": {},
   "outputs": [
    {
     "data": {
      "text/plain": [
       "'classes'"
      ]
     },
     "execution_count": 15,
     "metadata": {},
     "output_type": "execute_result"
    }
   ],
   "source": [
    "myvar[7:14]"
   ]
  },
  {
   "cell_type": "code",
   "execution_count": 16,
   "id": "ec9161be",
   "metadata": {},
   "outputs": [
    {
     "data": {
      "text/plain": [
       "25"
      ]
     },
     "execution_count": 16,
     "metadata": {},
     "output_type": "execute_result"
    }
   ],
   "source": [
    "len(myvar)"
   ]
  },
  {
   "cell_type": "code",
   "execution_count": 35,
   "id": "8325364c",
   "metadata": {},
   "outputs": [
    {
     "data": {
      "text/plain": [
       "' I like classes in Bengali    '"
      ]
     },
     "execution_count": 35,
     "metadata": {},
     "output_type": "execute_result"
    }
   ],
   "source": [
    "myvar=\" I like classes in Bengali    \"\n",
    "myvar"
   ]
  },
  {
   "cell_type": "code",
   "execution_count": 36,
   "id": "f7843a4a",
   "metadata": {},
   "outputs": [
    {
     "data": {
      "text/plain": [
       "['I', 'like', 'classes', 'in', 'Bengali']"
      ]
     },
     "execution_count": 36,
     "metadata": {},
     "output_type": "execute_result"
    }
   ],
   "source": [
    "myvar.strip().split()"
   ]
  },
  {
   "cell_type": "code",
   "execution_count": 37,
   "id": "5b487e21",
   "metadata": {},
   "outputs": [
    {
     "data": {
      "text/plain": [
       "True"
      ]
     },
     "execution_count": 37,
     "metadata": {},
     "output_type": "execute_result"
    }
   ],
   "source": [
    "\"Bengali\" in myvar"
   ]
  },
  {
   "cell_type": "code",
   "execution_count": 38,
   "id": "a67f0626",
   "metadata": {},
   "outputs": [
    {
     "data": {
      "text/plain": [
       "False"
      ]
     },
     "execution_count": 38,
     "metadata": {},
     "output_type": "execute_result"
    }
   ],
   "source": [
    "\"bengali\" in myvar"
   ]
  },
  {
   "cell_type": "code",
   "execution_count": 39,
   "id": "e0a6dddb",
   "metadata": {},
   "outputs": [
    {
     "data": {
      "text/plain": [
       "'Hi...Welcome to Python. Today we are learning Strings'"
      ]
     },
     "execution_count": 39,
     "metadata": {},
     "output_type": "execute_result"
    }
   ],
   "source": [
    "sentence1 = \"Hi...Welcome to Python. \"\n",
    "sentence2 = \"Today we are learning Strings\"\n",
    "sentence1+sentence2"
   ]
  },
  {
   "cell_type": "code",
   "execution_count": 40,
   "id": "60031382",
   "metadata": {},
   "outputs": [
    {
     "data": {
      "text/plain": [
       "'My age is 10'"
      ]
     },
     "execution_count": 40,
     "metadata": {},
     "output_type": "execute_result"
    }
   ],
   "source": [
    "age = 10\n",
    "text = \"My age is {}\"\n",
    "text.format(age)"
   ]
  },
  {
   "cell_type": "code",
   "execution_count": 43,
   "id": "e31de787",
   "metadata": {},
   "outputs": [
    {
     "name": "stdout",
     "output_type": "stream",
     "text": [
      "Enter word: China\n",
      "False\n"
     ]
    }
   ],
   "source": [
    "ExerciseString = \"Welcome to India\"\n",
    "userinput = input(\"Enter word: \")\n",
    "userinput = userinput.lower()\n",
    "print(userinput in ExerciseString.lower())"
   ]
  },
  {
   "cell_type": "code",
   "execution_count": null,
   "id": "562764e8",
   "metadata": {},
   "outputs": [],
   "source": []
  }
 ],
 "metadata": {
  "kernelspec": {
   "display_name": "Python 3 (ipykernel)",
   "language": "python",
   "name": "python3"
  },
  "language_info": {
   "codemirror_mode": {
    "name": "ipython",
    "version": 3
   },
   "file_extension": ".py",
   "mimetype": "text/x-python",
   "name": "python",
   "nbconvert_exporter": "python",
   "pygments_lexer": "ipython3",
   "version": "3.7.16"
  }
 },
 "nbformat": 4,
 "nbformat_minor": 5
}
